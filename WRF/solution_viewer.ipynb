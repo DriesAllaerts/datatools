{
 "cells": [
  {
   "cell_type": "code",
   "execution_count": 1,
   "metadata": {},
   "outputs": [],
   "source": [
    "%load_ext autoreload\n",
    "%autoreload 2\n",
    "%matplotlib inline"
   ]
  },
  {
   "cell_type": "code",
   "execution_count": 2,
   "metadata": {},
   "outputs": [],
   "source": [
    "from ipywidgets import interactive\n",
    "import ipywidgets as widgets"
   ]
  },
  {
   "cell_type": "code",
   "execution_count": 3,
   "metadata": {},
   "outputs": [],
   "source": [
    "from datatools.WRF.viz import Visualization2D"
   ]
  },
  {
   "cell_type": "code",
   "execution_count": 4,
   "metadata": {},
   "outputs": [],
   "source": [
    "viz = Visualization2D()"
   ]
  },
  {
   "cell_type": "code",
   "execution_count": 5,
   "metadata": {},
   "outputs": [
    {
     "data": {
      "text/plain": [
       "9 times read:\n",
       "  wrfout_d02_0001-01-01_05_00_00\n",
       "  wrfout_d02_0001-01-01_05_15_00\n",
       "  wrfout_d02_0001-01-01_05_30_00\n",
       "  ...\n",
       "  wrfout_d02_0001-01-01_06_45_00\n",
       "  wrfout_d02_0001-01-01_07_00_00\n",
       "Dimensions: (528, 528, 149)"
      ]
     },
     "execution_count": 5,
     "metadata": {},
     "output_type": "execute_result"
    }
   ],
   "source": [
    "viz"
   ]
  },
  {
   "cell_type": "code",
   "execution_count": 6,
   "metadata": {},
   "outputs": [
    {
     "data": {
      "application/vnd.jupyter.widget-view+json": {
       "model_id": "60d0db66e0aa4dc1a65037713d2b1859",
       "version_major": 2,
       "version_minor": 0
      },
      "text/plain": [
       "interactive(children=(Dropdown(description='field', options=('U', 'V', 'W', 'T'), value='U'), IntSlider(value=…"
      ]
     },
     "metadata": {},
     "output_type": "display_data"
    }
   ],
   "source": [
    "iplot = interactive(viz.plot,\n",
    "                    field=['U','V','W','T'],\n",
    "                    time=(0,viz.Ntimes-1),\n",
    "                    index=(0,viz.N-1),\n",
    "                    xrange=widgets.IntRangeSlider(min=0,max=viz.Nx-1,value=[0,viz.Nx-1]),\n",
    "                    yrange=widgets.IntRangeSlider(min=0,max=viz.Ny-1,value=[0,viz.Ny-1]),\n",
    "                    plot_mean_profile=False\n",
    "                   )\n",
    "iplot"
   ]
  },
  {
   "cell_type": "code",
   "execution_count": null,
   "metadata": {},
   "outputs": [],
   "source": []
  }
 ],
 "metadata": {
  "kernelspec": {
   "display_name": "Python 3",
   "language": "python",
   "name": "python3"
  },
  "language_info": {
   "codemirror_mode": {
    "name": "ipython",
    "version": 3
   },
   "file_extension": ".py",
   "mimetype": "text/x-python",
   "name": "python",
   "nbconvert_exporter": "python",
   "pygments_lexer": "ipython3",
   "version": "3.6.5"
  }
 },
 "nbformat": 4,
 "nbformat_minor": 2
}
